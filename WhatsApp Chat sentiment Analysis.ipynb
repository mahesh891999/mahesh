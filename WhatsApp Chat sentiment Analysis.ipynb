{
 "cells": [
  {
   "cell_type": "code",
   "execution_count": 1,
   "id": "0b8093fa-87a3-4e7a-840d-27f74af456b0",
   "metadata": {},
   "outputs": [],
   "source": [
    "import re"
   ]
  },
  {
   "cell_type": "code",
   "execution_count": 2,
   "id": "9c803259-6c4d-4807-8d2c-099b736efeb9",
   "metadata": {},
   "outputs": [],
   "source": [
    "import pandas as pd"
   ]
  },
  {
   "cell_type": "code",
   "execution_count": 3,
   "id": "48b9046b-571f-40f4-ad58-e4f6acc9fda2",
   "metadata": {},
   "outputs": [],
   "source": [
    "import numpy as np"
   ]
  },
  {
   "cell_type": "code",
   "execution_count": 4,
   "id": "da1471d3-8863-437a-bf7c-14bbceb7e96a",
   "metadata": {},
   "outputs": [],
   "source": [
    "import emoji\n"
   ]
  },
  {
   "cell_type": "code",
   "execution_count": 6,
   "id": "958c7d31-2554-45d8-8070-e84c80eaa818",
   "metadata": {},
   "outputs": [],
   "source": [
    "from collections import Counter\n"
   ]
  },
  {
   "cell_type": "code",
   "execution_count": 7,
   "id": "0220b912-6761-4319-913d-ccdff0012401",
   "metadata": {},
   "outputs": [],
   "source": [
    "import matplotlib.pyplot as plt"
   ]
  },
  {
   "cell_type": "code",
   "execution_count": 8,
   "id": "7f6cbbc4-98eb-4b04-b98e-4d245af9bb02",
   "metadata": {},
   "outputs": [],
   "source": [
    "from PIL import Image\n"
   ]
  },
  {
   "cell_type": "code",
   "execution_count": 10,
   "id": "c3db7326-816d-42c5-a6c4-ee9edff2a96f",
   "metadata": {},
   "outputs": [],
   "source": [
    "from wordcloud import wordcloud,STOPWORDS,ImageColorGenerator\n"
   ]
  },
  {
   "cell_type": "code",
   "execution_count": 9,
   "id": "aaaaf6a3-66ad-40ec-953b-59fcb2c0681b",
   "metadata": {},
   "outputs": [],
   "source": [
    "def date_time(s):\n",
    "    pattern=\"^([0-9]+)(\\/)([0-9]+)(\\/)([0-9]+), ([0-9]+):([0-9]+)[ ]?(AM|PM|am|pm)? -\"\n",
    "    result=re.match(pattern,s)\n",
    "    if result:\n",
    "        return True\n",
    "    else:\n",
    "        return False\n",
    "def find_contact(s):\n",
    "    s=s.split(\":\")\n",
    "    if len(s)==2:\n",
    "        return True\n",
    "    else:\n",
    "        return False\n",
    "def getMassage(line):\n",
    "    splitline=line.split(' - ')\n",
    "    datetime=splitline[0];\n",
    "    date,time=datetime.split(', ')\n",
    "    message=\" \".join(splitline[1:])\n",
    "    if find_contact(message):\n",
    "        splitmessage=message.split(\": \")\n",
    "        author=splitmessage[0]\n",
    "        message=\" \".join(splitline[1:])\n",
    "    else:\n",
    "        author=None\n",
    "    return date,time,author,message\n",
    "                 "
   ]
  },
  {
   "cell_type": "code",
   "execution_count": 8,
   "id": "d7ecbdad-2192-420b-8e7a-a55083282ec3",
   "metadata": {},
   "outputs": [
    {
     "ename": "NameError",
     "evalue": "name 're' is not defined",
     "output_type": "error",
     "traceback": [
      "\u001b[1;31m---------------------------------------------------------------------------\u001b[0m",
      "\u001b[1;31mNameError\u001b[0m                                 Traceback (most recent call last)",
      "Cell \u001b[1;32mIn[8], line 12\u001b[0m\n\u001b[0;32m     10\u001b[0m     \u001b[38;5;28;01mbreak\u001b[39;00m\n\u001b[0;32m     11\u001b[0m line\u001b[38;5;241m=\u001b[39mline\u001b[38;5;241m.\u001b[39mstrip()\n\u001b[1;32m---> 12\u001b[0m \u001b[38;5;28;01mif\u001b[39;00m \u001b[43mdate_time\u001b[49m\u001b[43m(\u001b[49m\u001b[43mline\u001b[49m\u001b[43m)\u001b[49m:\n\u001b[0;32m     13\u001b[0m     \u001b[38;5;28;01mif\u001b[39;00m \u001b[38;5;28mlen\u001b[39m(messageBuffer)\u001b[38;5;241m>\u001b[39m\u001b[38;5;241m0\u001b[39m:\n\u001b[0;32m     14\u001b[0m         data\u001b[38;5;241m.\u001b[39mappend([date, time, author, \u001b[38;5;124m\"\u001b[39m\u001b[38;5;124m\"\u001b[39m\u001b[38;5;241m.\u001b[39mjoin(messageBuffer)])\n",
      "Cell \u001b[1;32mIn[6], line 3\u001b[0m, in \u001b[0;36mdate_time\u001b[1;34m(s)\u001b[0m\n\u001b[0;32m      1\u001b[0m \u001b[38;5;28;01mdef\u001b[39;00m \u001b[38;5;21mdate_time\u001b[39m(s):\n\u001b[0;32m      2\u001b[0m     pattern\u001b[38;5;241m=\u001b[39m\u001b[38;5;124m\"\u001b[39m\u001b[38;5;124m^([0-9]+)(\u001b[39m\u001b[38;5;124m\\\u001b[39m\u001b[38;5;124m/)([0-9]+)(\u001b[39m\u001b[38;5;124m\\\u001b[39m\u001b[38;5;124m/)([0-9]+), ([0-9]+):([0-9]+)[ ]?(AM|PM|am|pm)? -\u001b[39m\u001b[38;5;124m\"\u001b[39m\n\u001b[1;32m----> 3\u001b[0m     result\u001b[38;5;241m=\u001b[39m\u001b[43mre\u001b[49m\u001b[38;5;241m.\u001b[39mmatch(pattern,s)\n\u001b[0;32m      4\u001b[0m     \u001b[38;5;28;01mif\u001b[39;00m result:\n\u001b[0;32m      5\u001b[0m         \u001b[38;5;28;01mreturn\u001b[39;00m \u001b[38;5;28;01mTrue\u001b[39;00m\n",
      "\u001b[1;31mNameError\u001b[0m: name 're' is not defined"
     ]
    }
   ],
   "source": [
    "data=[]\n",
    "conversation=\"chat.txt.txt\"\n",
    "with open(conversation,encoding=\"utf-8\") as fp:\n",
    "    fp.readline()\n",
    "    messageBuffer=[]\n",
    "    date, time, author=None, None, None\n",
    "    while True:\n",
    "        line=fp.readline()\n",
    "        if not line:\n",
    "            break\n",
    "        line=line.strip()\n",
    "        if date_time(line):\n",
    "            if len(messageBuffer)>0:\n",
    "                data.append([date, time, author, \"\".join(messageBuffer)])\n",
    "            messageBuffer.clear()\n",
    "            date, time, author, message=getMassage(line)\n",
    "            messageBuffer.append(message)\n",
    "        else:\n",
    "            messageBuffer.append(line)"
   ]
  },
  {
   "cell_type": "code",
   "execution_count": 3,
   "id": "37cf4163-2be5-43e4-bf00-7202700da833",
   "metadata": {},
   "outputs": [
    {
     "ename": "NameError",
     "evalue": "name 'pd' is not defined",
     "output_type": "error",
     "traceback": [
      "\u001b[1;31m---------------------------------------------------------------------------\u001b[0m",
      "\u001b[1;31mNameError\u001b[0m                                 Traceback (most recent call last)",
      "Cell \u001b[1;32mIn[3], line 1\u001b[0m\n\u001b[1;32m----> 1\u001b[0m df\u001b[38;5;241m=\u001b[39m\u001b[43mpd\u001b[49m\u001b[38;5;241m.\u001b[39mDataFrame(date,columns\u001b[38;5;241m=\u001b[39m[\u001b[38;5;124m\"\u001b[39m\u001b[38;5;124mDate\u001b[39m\u001b[38;5;124m\"\u001b[39m, \u001b[38;5;124m\"\u001b[39m\u001b[38;5;124mTime\u001b[39m\u001b[38;5;124m\"\u001b[39m,\u001b[38;5;124m\"\u001b[39m\u001b[38;5;124mContact\u001b[39m\u001b[38;5;124m\"\u001b[39m,\u001b[38;5;124m\"\u001b[39m\u001b[38;5;124mMessage\u001b[39m\u001b[38;5;124m\"\u001b[39m])\n\u001b[0;32m      2\u001b[0m df[\u001b[38;5;124m'\u001b[39m\u001b[38;5;124mDate\u001b[39m\u001b[38;5;124m'\u001b[39m]\u001b[38;5;241m=\u001b[39mpd\u001b[38;5;241m.\u001b[39mto_datetime(df[\u001b[38;5;124m\"\u001b[39m\u001b[38;5;124mDate\u001b[39m\u001b[38;5;124m\"\u001b[39m])\n\u001b[0;32m      3\u001b[0m date\u001b[38;5;241m=\u001b[39mdf\u001b[38;5;241m.\u001b[39mdropna()\n",
      "\u001b[1;31mNameError\u001b[0m: name 'pd' is not defined"
     ]
    }
   ],
   "source": [
    "df=pd.DataFrame(date,columns=[\"Date\", \"Time\",\"Contact\",\"Message\"])\n",
    "df['Date']=pd.to_datetime(df[\"Date\"])\n",
    "date=df.dropna()\n",
    "from nltk.sentiment.vader import sentimentIntensityAnalyzer\n",
    "sentiments=SentimentIntensityAnalyzer()\n",
    "date[\"positive\"]=[sentiments.polarity_scores(i)[\"pos\"] for i in data[\"Message\"]]\n",
    "date[\"negative\"]=[sentiments.polarity_scores(i)[\"neg\"] for i in data[\"Message\"]]\n",
    "date[\"neutral\"]=[sentiments.polarity_scores(i)[\"neu\"] for i in data[\"Message\"]]\n",
    "date.head(20)"
   ]
  },
  {
   "cell_type": "code",
   "execution_count": null,
   "id": "b50ff718-308d-467b-9996-c67b3c6a7616",
   "metadata": {},
   "outputs": [],
   "source": []
  }
 ],
 "metadata": {
  "kernelspec": {
   "display_name": "Python 3 (ipykernel)",
   "language": "python",
   "name": "python3"
  },
  "language_info": {
   "codemirror_mode": {
    "name": "ipython",
    "version": 3
   },
   "file_extension": ".py",
   "mimetype": "text/x-python",
   "name": "python",
   "nbconvert_exporter": "python",
   "pygments_lexer": "ipython3",
   "version": "3.11.5"
  }
 },
 "nbformat": 4,
 "nbformat_minor": 5
}
